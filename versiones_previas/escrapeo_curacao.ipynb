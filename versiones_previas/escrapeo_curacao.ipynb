{
  "nbformat": 4,
  "nbformat_minor": 0,
  "metadata": {
    "colab": {
      "provenance": [],
      "authorship_tag": "ABX9TyPe1HRQ0FZxz+G4a/szDsRq",
      "include_colab_link": true
    },
    "kernelspec": {
      "name": "python3",
      "display_name": "Python 3"
    },
    "language_info": {
      "name": "python"
    }
  },
  "cells": [
    {
      "cell_type": "markdown",
      "metadata": {
        "id": "view-in-github",
        "colab_type": "text"
      },
      "source": [
        "<a href=\"https://colab.research.google.com/github/SebQuispe/Trabajo_API_LP2/blob/rama_Alexander/escrapeo_curacao.ipynb\" target=\"_parent\"><img src=\"https://colab.research.google.com/assets/colab-badge.svg\" alt=\"Open In Colab\"/></a>"
      ]
    },
    {
      "cell_type": "code",
      "execution_count": 1,
      "metadata": {
        "id": "e9ZlAgVLiKMK",
        "outputId": "edaf9e67-fd44-40df-c09e-789c44ec9b50",
        "colab": {
          "base_uri": "https://localhost:8080/"
        }
      },
      "outputs": [
        {
          "output_type": "stream",
          "name": "stdout",
          "text": [
            "{'modelo': 'Celular Samsung Galaxy A56 256GB 12GB 6.7\"', 'precio_actual': 'S/\\xa01,649.00', 'precio_anterior': 'S/\\xa02,059.00', 'descuento': None}\n",
            "{'modelo': 'Celular Samsung Galaxy S25 Ultra 256GB 12GB 6.9\" Titanio Gris', 'precio_actual': 'S/\\xa03,999.00', 'precio_anterior': 'S/\\xa05,269.00', 'descuento': None}\n",
            "{'modelo': 'Apple iPhone 16 Pro Max 256GB 8GB 6.9\" Natural Titanium ESIM', 'precio_actual': 'S/\\xa04,999.00', 'precio_anterior': 'S/\\xa06,159.00', 'descuento': None}\n",
            "{'modelo': 'Celular Honor Magic 7 Lite 256GB 8GB 6.7\" Titanium Negro', 'precio_actual': 'S/\\xa01,319.00', 'precio_anterior': 'S/\\xa01,749.00', 'descuento': None}\n",
            "{'modelo': 'Celular Xiaomi Poco X7 Pro 512GB 12GB 6.67\" Negro', 'precio_actual': 'S/\\xa01,449.00', 'precio_anterior': 'S/\\xa01,999.00', 'descuento': None}\n"
          ]
        }
      ],
      "source": [
        "from bs4 import BeautifulSoup\n",
        "\n",
        "# Carga del archivo HTML\n",
        "with open(\"Celulares y Smartphones en Oferta _ Celulares _ La Curacao.html\", encoding=\"utf-8\") as f:\n",
        "    soup = BeautifulSoup(f, \"html.parser\")\n",
        "\n",
        "# Lista para guardar resultados\n",
        "productos = []\n",
        "\n",
        "# Buscar cada producto\n",
        "for item in soup.select(\"li.product-item\"):\n",
        "    nombre = item.select_one(\"a.product-item-link\")\n",
        "    precio_actual = item.select_one(\"span.price\")\n",
        "    precio_anterior = item.select_one(\"span.old-price .price\")\n",
        "    descuento = item.select_one(\"span.discount\")\n",
        "\n",
        "    productos.append({\n",
        "        \"modelo\": nombre.get_text(strip=True) if nombre else None,\n",
        "        \"precio_actual\": precio_actual.get_text(strip=True) if precio_actual else None,\n",
        "        \"precio_anterior\": precio_anterior.get_text(strip=True) if precio_anterior else None,\n",
        "        \"descuento\": descuento.get_text(strip=True) if descuento else None\n",
        "    })\n",
        "\n",
        "# Mostrar los primeros 5 resultados\n",
        "for p in productos[:5]:\n",
        "    print(p)\n"
      ]
    }
  ]
}