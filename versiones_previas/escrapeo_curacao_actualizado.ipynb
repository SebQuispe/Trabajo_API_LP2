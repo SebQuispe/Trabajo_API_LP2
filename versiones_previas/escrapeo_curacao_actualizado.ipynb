{
  "nbformat": 4,
  "nbformat_minor": 0,
  "metadata": {
    "colab": {
      "provenance": [],
      "authorship_tag": "ABX9TyOJES/OPgTJaL2tRDv3wwKs",
      "include_colab_link": true
    },
    "kernelspec": {
      "name": "python3",
      "display_name": "Python 3"
    },
    "language_info": {
      "name": "python"
    }
  },
  "cells": [
    {
      "cell_type": "markdown",
      "metadata": {
        "id": "view-in-github",
        "colab_type": "text"
      },
      "source": [
        "<a href=\"https://colab.research.google.com/github/SebQuispe/Trabajo_API_LP2/blob/rama_Alexander/escrapeo_curacao_actualizado.ipynb\" target=\"_parent\"><img src=\"https://colab.research.google.com/assets/colab-badge.svg\" alt=\"Open In Colab\"/></a>"
      ]
    },
    {
      "cell_type": "code",
      "source": [
        "from bs4 import BeautifulSoup\n",
        "import pandas as pd\n",
        "import os\n",
        "\n",
        "# Cargar el archivo HTML\n",
        "with open(\"celulares_curacao.html\", encoding=\"utf-8\") as f:\n",
        "    soup = BeautifulSoup(f, \"html.parser\")\n",
        "\n",
        "# Lista para guardar resultados\n",
        "productos = []\n",
        "\n",
        "# Función para limpiar precios\n",
        "def limpiar_precio(texto):\n",
        "    if texto:\n",
        "        texto = texto.replace(\"S/\", \"\").replace(\"\\xa0\", \"\").replace(\",\", \"\").strip()\n",
        "        try:\n",
        "            return float(texto)\n",
        "        except:\n",
        "            return None\n",
        "    return None\n",
        "\n",
        "# Buscar productos\n",
        "for item in soup.select(\"li.product-item\"):\n",
        "    nombre = item.select_one(\"a.product-item-link\")\n",
        "    precio_actual = item.select_one(\"span.price\")\n",
        "    precio_anterior = item.select_one(\"span.old-price .price\")\n",
        "\n",
        "    productos.append({\n",
        "        \"modelo\": nombre.get_text(strip=True) if nombre else None,\n",
        "        \"precio_actual\": limpiar_precio(precio_actual.get_text(strip=True)) if precio_actual else None,\n",
        "        \"precio_anterior\": limpiar_precio(precio_anterior.get_text(strip=True)) if precio_anterior else None\n",
        "    })\n",
        "\n",
        "# Convertir a DataFrame\n",
        "df = pd.DataFrame(productos)\n",
        "\n",
        "# Cálculo de descuentos\n",
        "df[\"diferencia\"] = df[\"precio_anterior\"] - df[\"precio_actual\"]\n",
        "df[\"porcentaje_descuento\"] = round((df[\"diferencia\"] / df[\"precio_anterior\"]) * 100, 2)\n",
        "\n",
        "# Mostrar primeras filas\n",
        "print(df.head())\n",
        "\n",
        "# Crear carpeta /data si no existe\n",
        "os.makedirs(\"data\", exist_ok=True)\n",
        "\n",
        "# Guardar CSV\n",
        "df.to_csv(\"data/productos_curacao.csv\", index=False, encoding=\"utf-8-sig\")\n",
        "print(\"\\n✅ Archivo 'productos_curacao.csv' guardado con columnas de descuento en la carpeta /data\")\n"
      ],
      "metadata": {
        "colab": {
          "base_uri": "https://localhost:8080/"
        },
        "id": "KuaG2w4pvB1x",
        "outputId": "2062c850-3358-4d13-dcc8-5d60db884071"
      },
      "execution_count": 1,
      "outputs": [
        {
          "output_type": "stream",
          "name": "stdout",
          "text": [
            "                                              modelo  precio_actual  \\\n",
            "0         Celular Samsung Galaxy A56 256GB 12GB 6.7\"         1649.0   \n",
            "1  Celular Samsung Galaxy S25 Ultra 256GB 12GB 6....         3999.0   \n",
            "2  Apple iPhone 16 Pro Max 256GB 8GB 6.9\" Natural...         4999.0   \n",
            "3  Celular Honor Magic 7 Lite 256GB 8GB 6.7\" Tita...         1319.0   \n",
            "4  Celular Xiaomi Poco X7 Pro 512GB 12GB 6.67\" Negro         1449.0   \n",
            "\n",
            "   precio_anterior  diferencia  porcentaje_descuento  \n",
            "0           2059.0       410.0                 19.91  \n",
            "1           5269.0      1270.0                 24.10  \n",
            "2           6159.0      1160.0                 18.83  \n",
            "3           1749.0       430.0                 24.59  \n",
            "4           1999.0       550.0                 27.51  \n",
            "\n",
            "✅ Archivo 'productos_curacao.csv' guardado con columnas de descuento en la carpeta /data\n"
          ]
        }
      ]
    }
  ]
}