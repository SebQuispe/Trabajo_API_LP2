{
  "nbformat": 4,
  "nbformat_minor": 0,
  "metadata": {
    "colab": {
      "provenance": []
    },
    "kernelspec": {
      "name": "python3",
      "display_name": "Python 3"
    },
    "language_info": {
      "name": "python"
    }
  },
  "cells": [
    {
      "cell_type": "code",
      "source": [
        "# EXTRACCIÓN DE DATOS CON LA API DE GOOGLE SHOPPING (CELULARES)"
      ],
      "metadata": {
        "id": "3_G0wfxaMNv4"
      },
      "execution_count": null,
      "outputs": []
    },
    {
      "cell_type": "code",
      "source": [
        "import requests\n",
        "import pandas as pd\n",
        "\n",
        "# === Parámetros ===\n",
        "url = \"https://www.searchapi.io/api/v1/search\"\n",
        "api_key = \"ZSe7LgUYPCVNAib6P33HjjtL\"\n",
        "marcas_deseadas = [\"Apple\", \"Motorola\", \"Samsung\", \"Honor\", \"Xiaomi\"]\n",
        "\n",
        "params = {\n",
        "    \"engine\": \"google_shopping\",\n",
        "    \"q\": \"phone\",\n",
        "    \"gl\": \"us\",\n",
        "    \"hl\": \"en\",\n",
        "    \"location\": \"\",\n",
        "    \"api_key\": api_key\n",
        "}\n",
        "\n",
        "productos_filtrados = []\n",
        "\n",
        "try:\n",
        "    response = requests.get(url, params=params)\n",
        "    if response.status_code != 200:\n",
        "        print(f\"❌ Error HTTP {response.status_code}\")\n",
        "    else:\n",
        "        data = response.json()\n",
        "        productos = data.get(\"shopping_results\", [])\n",
        "\n",
        "        if not productos:\n",
        "            print(\"⚠️ No se encontraron productos en 'shopping_results'.\")\n",
        "        else:\n",
        "            for producto in productos:\n",
        "                try:\n",
        "                    titulo = producto.get(\"title\", \"\").strip()\n",
        "                    product_id = producto.get(\"product_id\", \"\").strip()\n",
        "                    vendedor = producto.get(\"seller\", \"\").strip()\n",
        "                    precio = producto.get(\"extracted_price\")\n",
        "\n",
        "                    # Detectar marca en título\n",
        "                    marca_detectada = next((m for m in marcas_deseadas if m.lower() in titulo.lower()), None)\n",
        "\n",
        "                    # Validar todos los campos\n",
        "                    if all([titulo, product_id, vendedor, precio is not None, marca_detectada]):\n",
        "                        productos_filtrados.append({\n",
        "                            \"Título\": titulo,\n",
        "                            \"ID del Producto\": product_id,\n",
        "                            \"Marca Detectada\": marca_detectada,\n",
        "                            \"Vendedor\": vendedor,\n",
        "                            \"Precio\": precio\n",
        "                        })\n",
        "\n",
        "                except Exception as e:\n",
        "                    print(f\"⚠️ Error al procesar un producto: {e}\")\n",
        "\n",
        "except requests.RequestException as e:\n",
        "    print(f\"❌ Error de red: {e}\")\n",
        "\n",
        "# === Guardar CSV si hay datos ===\n",
        "if productos_filtrados:\n",
        "    df = pd.DataFrame(productos_filtrados)\n",
        "    df.to_csv(\"celulares_google_shopping_api.csv\", index=False, encoding=\"utf-8\")\n",
        "    print(f\"✅ Se han guardado {len(df)} productos únicos en 'celulares_google_shopping_api.csv'.\")\n",
        "else:\n",
        "    print(\"⚠️ No se encontraron productos válidos con todos los campos completos.\")"
      ],
      "metadata": {
        "colab": {
          "base_uri": "https://localhost:8080/"
        },
        "id": "7gWlgB8rJwOU",
        "outputId": "01a22de4-1df9-4a86-8ecd-dec4033ef692"
      },
      "execution_count": null,
      "outputs": [
        {
          "output_type": "stream",
          "name": "stdout",
          "text": [
            "✅ Se han guardado 7 productos únicos en 'celulares_google_shopping_api.csv'.\n"
          ]
        }
      ]
    },
    {
      "cell_type": "code",
      "source": [
        "# === Leer archivo existente ===\n",
        "archivo = \"celulares_google_shopping_api.csv\"\n",
        "df = pd.read_csv(archivo)\n",
        "\n",
        "# === Verificar que exista la columna 'Precio' ===\n",
        "if \"Precio\" not in df.columns:\n",
        "    print(\"❌ Error: El archivo no contiene una columna 'Precio'.\")\n",
        "    exit()\n",
        "\n",
        "# === Convertir precios a soles (números flotantes) ===\n",
        "tasa_cambio = 3.54  # 1 USD = 3.54 PEN\n",
        "df[\"Precio en Soles\"] = df[\"Precio\"].apply(lambda x: round(float(x) * tasa_cambio, 2))\n",
        "\n",
        "# === Guardar en nuevo archivo CSV ===\n",
        "archivo_salida = \"celulares_google_shopping_api_actualizado.csv\"\n",
        "df.to_csv(archivo_salida, index=False, encoding=\"utf-8\")\n",
        "print(f\"✅ Se ha creado '{archivo_salida}' con precios en soles.\")"
      ],
      "metadata": {
        "colab": {
          "base_uri": "https://localhost:8080/"
        },
        "id": "LsA-uXt6u4tW",
        "outputId": "617987cc-4851-439f-80bc-8f8d600e7f0d"
      },
      "execution_count": null,
      "outputs": [
        {
          "output_type": "stream",
          "name": "stdout",
          "text": [
            "✅ Se ha creado 'celulares_google_shopping_api_actualizado.csv' con precios en soles.\n"
          ]
        }
      ]
    },
    {
      "cell_type": "code",
      "source": [
        "# EXTRACCIÓN DE DATOS CON LA API DE GOOGLE SHOPPING (CONSOLAS DE VIDEOJUEGOS)"
      ],
      "metadata": {
        "id": "dYejOOI7PuDu"
      },
      "execution_count": null,
      "outputs": []
    },
    {
      "cell_type": "code",
      "source": [
        "import requests\n",
        "import pandas as pd\n",
        "\n",
        "# === Parámetros de búsqueda ===\n",
        "url = \"https://www.searchapi.io/api/v1/search\"\n",
        "api_key = \"ZSe7LgUYPCVNAib6P33HjjtL\"\n",
        "marcas_deseadas = [\"Asus\", \"Microsoft\", \"Nintendo\", \"Sony\"]\n",
        "\n",
        "params = {\n",
        "    \"engine\": \"google_shopping\",\n",
        "    \"q\": \"gaming console\",\n",
        "    \"gl\": \"us\",\n",
        "    \"hl\": \"en\",\n",
        "    \"location\": \"\",\n",
        "    \"api_key\": api_key\n",
        "}\n",
        "\n",
        "productos_filtrados = []\n",
        "\n",
        "try:\n",
        "    response = requests.get(url, params=params)\n",
        "    if response.status_code != 200:\n",
        "        print(f\"❌ Error HTTP {response.status_code}\")\n",
        "    else:\n",
        "        data = response.json()\n",
        "        productos = data.get(\"shopping_results\", [])\n",
        "\n",
        "        if not productos:\n",
        "            print(\"⚠️ No se encontraron productos en 'shopping_results'.\")\n",
        "        else:\n",
        "            for producto in productos:\n",
        "                try:\n",
        "                    titulo = producto.get(\"title\", \"\").strip()\n",
        "                    product_id = producto.get(\"product_id\", \"\").strip()\n",
        "                    vendedor = producto.get(\"seller\", \"\").strip()\n",
        "                    precio = producto.get(\"extracted_price\")\n",
        "\n",
        "                    # Detectar marca\n",
        "                    marca_detectada = next((m for m in marcas_deseadas if m.lower() in titulo.lower()), None)\n",
        "\n",
        "                    # Validar que todos los campos existan y no estén vacíos\n",
        "                    if all([titulo, product_id, vendedor, precio is not None, marca_detectada]):\n",
        "                        productos_filtrados.append({\n",
        "                            \"Título\": titulo,\n",
        "                            \"ID del Producto\": product_id,\n",
        "                            \"Marca Detectada\": marca_detectada,\n",
        "                            \"Vendedor\": vendedor,\n",
        "                            \"Precio\": precio\n",
        "                        })\n",
        "\n",
        "                except Exception as e:\n",
        "                    print(f\"⚠️ Error al procesar un producto: {e}\")\n",
        "\n",
        "except requests.RequestException as e:\n",
        "    print(f\"❌ Error de red: {e}\")\n",
        "\n",
        "# === Guardar en CSV ===\n",
        "if productos_filtrados:\n",
        "    df = pd.DataFrame(productos_filtrados)\n",
        "    df.to_csv(\"consolas_videojuegos_google_shopping.csv\", index=False, encoding=\"utf-8\")\n",
        "    print(f\"✅ Se han guardado {len(df)} consolas en 'consolas_videojuegos_google_shopping.csv'.\")\n",
        "else:\n",
        "    print(\"⚠️ No se encontraron consolas válidas con todos los campos completos.\")"
      ],
      "metadata": {
        "colab": {
          "base_uri": "https://localhost:8080/"
        },
        "id": "aAhcviJIyblx",
        "outputId": "cc68d238-2cbf-4bab-9cf2-77be267c2440"
      },
      "execution_count": null,
      "outputs": [
        {
          "output_type": "stream",
          "name": "stdout",
          "text": [
            "✅ Se han guardado 19 consolas en 'consolas_videojuegos_google_shopping.csv'.\n"
          ]
        }
      ]
    },
    {
      "cell_type": "code",
      "source": [
        "# === Leer archivo existente ===\n",
        "archivo = \"consolas_videojuegos_google_shopping.csv\"\n",
        "df = pd.read_csv(archivo)\n",
        "\n",
        "# === Verificar que exista la columna 'Precio' ===\n",
        "if \"Precio\" not in df.columns:\n",
        "    print(\"❌ Error: El archivo no contiene una columna 'Precio'.\")\n",
        "    exit()\n",
        "\n",
        "# === Convertir precios a soles (números flotantes) ===\n",
        "tasa_cambio = 3.54  # 1 USD = 3.54 PEN\n",
        "df[\"Precio en Soles\"] = df[\"Precio\"].apply(lambda x: round(float(x) * tasa_cambio, 2))\n",
        "\n",
        "# === Guardar en nuevo archivo CSV ===\n",
        "archivo_salida = \"consolas_videojuegos_actualizado.csv\"\n",
        "df.to_csv(archivo_salida, index=False, encoding=\"utf-8\")\n",
        "print(f\"✅ Se ha creado '{archivo_salida}' con precios en soles.\")"
      ],
      "metadata": {
        "colab": {
          "base_uri": "https://localhost:8080/"
        },
        "id": "OGY_dy56zvCz",
        "outputId": "6b5cf933-d5d9-4547-ec36-7dc1ad94c332"
      },
      "execution_count": null,
      "outputs": [
        {
          "output_type": "stream",
          "name": "stdout",
          "text": [
            "✅ Se ha creado 'consolas_videojuegos_actualizado.csv' con precios en soles.\n"
          ]
        }
      ]
    },
    {
      "cell_type": "code",
      "source": [
        "# EXTRACCIÓN DE DATOS POR WEB SCRAPING, HIRAOKA (CELULARES)"
      ],
      "metadata": {
        "id": "9ShogPijP0t1"
      },
      "execution_count": null,
      "outputs": []
    },
    {
      "cell_type": "code",
      "source": [
        "import requests\n",
        "from bs4 import BeautifulSoup\n",
        "import time\n",
        "import csv\n",
        "\n",
        "# Lista de marcas deseadas (en mayúsculas)\n",
        "marcas_deseadas = [\"APPLE\", \"MOTOROLA\", \"SAMSUNG\", \"HONOR\", \"XIAOMI\"]\n",
        "\n",
        "def limpiar_precio(precio):\n",
        "    if not precio:\n",
        "        return None\n",
        "    precio = precio.replace(\"\\xa0\", \"\").replace(\"S/\", \"\").replace(\",\", \"\").strip()\n",
        "    try:\n",
        "        return float(precio)\n",
        "    except ValueError:\n",
        "        return None\n",
        "\n",
        "def extraer_productos_hiraoka(pagina):\n",
        "    url = f\"https://hiraoka.com.pe/celulares/celulares?p={pagina}\"\n",
        "    headers = {\n",
        "        \"User-Agent\": \"Mozilla/5.0\"\n",
        "    }\n",
        "\n",
        "    try:\n",
        "        resp = requests.get(url, headers=headers)\n",
        "        resp.raise_for_status()\n",
        "    except requests.exceptions.RequestException as e:\n",
        "        print(f\"❌ Error al conectar con la página {pagina}: {e}\")\n",
        "        return None\n",
        "\n",
        "    soup = BeautifulSoup(resp.text, \"html.parser\")\n",
        "    productos = []\n",
        "\n",
        "    lista_items = soup.select(\"ol.products.list.items.product-items li.item.product.product-item\")\n",
        "\n",
        "    if not lista_items:\n",
        "        print(f\"⚠️ No se encontraron productos en la página {pagina}.\")\n",
        "        return None\n",
        "\n",
        "    for item in lista_items:\n",
        "        try:\n",
        "            marca_tag = item.find(\"strong\", class_=\"product brand product-item-brand\")\n",
        "            marca = marca_tag.get_text(strip=True) if marca_tag else None\n",
        "\n",
        "            if not marca or marca.upper() not in marcas_deseadas:\n",
        "                continue  # marca no está en la lista, omitimos\n",
        "\n",
        "            nombre_tag = item.find(\"strong\", class_=\"product name product-item-name\")\n",
        "            nombre = nombre_tag.get_text(strip=True) if nombre_tag else None\n",
        "\n",
        "            sku_tag = item.find(\"strong\", class_=\"product sku product-item-sku\")\n",
        "            sku = sku_tag.get_text(strip=True).replace(\"Código \", \"\") if sku_tag else None\n",
        "\n",
        "            precio_online_tag = item.select_one(\"span.price-container.price-final_price span.price\")\n",
        "            precio_online = limpiar_precio(precio_online_tag.get_text()) if precio_online_tag else None\n",
        "\n",
        "            precio_regular_tag = item.select_one(\"span.old-price span.price\")\n",
        "            precio_regular = limpiar_precio(precio_regular_tag.get_text()) if precio_regular_tag else None\n",
        "\n",
        "            if precio_regular is None:\n",
        "                precio_regular = precio_online\n",
        "\n",
        "            productos.append({\n",
        "                \"marca\": marca,\n",
        "                \"nombre\": nombre,\n",
        "                \"sku\": sku,\n",
        "                \"precio_online\": precio_online,\n",
        "                \"precio_regular\": precio_regular\n",
        "            })\n",
        "        except Exception as e:\n",
        "            print(f\"⚠️ Error procesando un producto en página {pagina}: {e}\")\n",
        "\n",
        "    print(f\"✅ {len(productos)} productos filtrados por marca en página {pagina}\")\n",
        "    return productos\n",
        "\n",
        "# 🌀 Extraer páginas hasta que no haya más productos válidos\n",
        "todo = []\n",
        "pagina = 1\n",
        "\n",
        "while True:\n",
        "    print(f\"\\n🔍 Extrayendo página {pagina}...\")\n",
        "    datos = extraer_productos_hiraoka(pagina)\n",
        "    if datos is None:\n",
        "        print(\"\\n✅ Búsqueda finalizada.\")\n",
        "        break\n",
        "    todo.extend(datos)\n",
        "    pagina += 1\n",
        "    time.sleep(1.5)\n",
        "\n",
        "# 📤 Exportar si hay productos válidos\n",
        "if len(todo) == 0:\n",
        "    print(\"⚠️ No se extrajo ningún producto válido. No se generó el archivo CSV.\")\n",
        "else:\n",
        "    nombre_archivo = \"celulares_filtrados_por_marca.csv\"\n",
        "    try:\n",
        "        with open(nombre_archivo, mode=\"w\", newline=\"\", encoding=\"utf-8\") as file:\n",
        "            writer = csv.DictWriter(file, fieldnames=[\"marca\", \"nombre\", \"sku\", \"precio_online\", \"precio_regular\"])\n",
        "            writer.writeheader()\n",
        "            writer.writerows(todo)\n",
        "        print(f\"\\n🔢 Total de productos extraídos: {len(todo)}\")\n",
        "        print(f\"📁 Archivo CSV generado exitosamente: '{nombre_archivo}'\")\n",
        "    except Exception as e:\n",
        "        print(f\"❌ Error al guardar el archivo CSV: {e}\")"
      ],
      "metadata": {
        "colab": {
          "base_uri": "https://localhost:8080/"
        },
        "id": "G43ptgh65DBQ",
        "outputId": "6d88457c-ad5e-4406-f47b-d4739d39ecac"
      },
      "execution_count": null,
      "outputs": [
        {
          "output_type": "stream",
          "name": "stdout",
          "text": [
            "\n",
            "🔍 Extrayendo página 1...\n",
            "✅ 17 productos filtrados por marca en página 1\n",
            "\n",
            "🔍 Extrayendo página 2...\n",
            "✅ 14 productos filtrados por marca en página 2\n",
            "\n",
            "🔍 Extrayendo página 3...\n",
            "✅ 14 productos filtrados por marca en página 3\n",
            "\n",
            "🔍 Extrayendo página 4...\n",
            "✅ 12 productos filtrados por marca en página 4\n",
            "\n",
            "🔍 Extrayendo página 5...\n",
            "✅ 17 productos filtrados por marca en página 5\n",
            "\n",
            "🔍 Extrayendo página 6...\n",
            "✅ 17 productos filtrados por marca en página 6\n",
            "\n",
            "🔍 Extrayendo página 7...\n",
            "✅ 9 productos filtrados por marca en página 7\n",
            "\n",
            "🔍 Extrayendo página 8...\n",
            "✅ 15 productos filtrados por marca en página 8\n",
            "\n",
            "🔍 Extrayendo página 9...\n",
            "✅ 14 productos filtrados por marca en página 9\n",
            "\n",
            "🔍 Extrayendo página 10...\n",
            "✅ 9 productos filtrados por marca en página 10\n",
            "\n",
            "🔍 Extrayendo página 11...\n",
            "⚠️ No se encontraron productos en la página 11.\n",
            "\n",
            "✅ Búsqueda finalizada.\n",
            "\n",
            "🔢 Total de productos extraídos: 138\n",
            "📁 Archivo CSV generado exitosamente: 'celulares_filtrados_por_marca.csv'\n"
          ]
        }
      ]
    },
    {
      "cell_type": "code",
      "source": [
        "# EXTRACCIÓN DE DATOS POR WEB SCRAPING, HIRAOKA (CONSOLAS DE VIDEOJUEGOS)"
      ],
      "metadata": {
        "id": "2e8AZ3pgP9q4"
      },
      "execution_count": null,
      "outputs": []
    },
    {
      "cell_type": "code",
      "source": [
        "import requests\n",
        "from bs4 import BeautifulSoup\n",
        "import time\n",
        "import csv\n",
        "\n",
        "# (Opcional) Lista de marcas deseadas. Comenta esta línea si no deseas filtrar por marca.\n",
        "marcas_deseadas = [\"SONY\", \"MICROSOFT\", \"NINTENDO\", \"ASUS\"]\n",
        "\n",
        "def limpiar_precio(precio):\n",
        "    if not precio:\n",
        "        return None\n",
        "    precio = precio.replace(\"\\xa0\", \"\").replace(\"S/\", \"\").replace(\",\", \"\").strip()\n",
        "    try:\n",
        "        return float(precio)\n",
        "    except ValueError:\n",
        "        return None\n",
        "\n",
        "def extraer_consolas_hiraoka(pagina):\n",
        "    url = f\"https://hiraoka.com.pe/gaming/consolas?p={pagina}\"\n",
        "    headers = {\n",
        "        \"User-Agent\": \"Mozilla/5.0\"\n",
        "    }\n",
        "\n",
        "    try:\n",
        "        resp = requests.get(url, headers=headers)\n",
        "        resp.raise_for_status()\n",
        "    except requests.exceptions.RequestException as e:\n",
        "        print(f\"❌ Error al conectar con la página {pagina}: {e}\")\n",
        "        return None\n",
        "\n",
        "    soup = BeautifulSoup(resp.text, \"html.parser\")\n",
        "    productos = []\n",
        "\n",
        "    lista_items = soup.select(\"ol.products.list.items.product-items li.item.product.product-item\")\n",
        "\n",
        "    if not lista_items:\n",
        "        print(f\"⚠️ No se encontraron productos en la página {pagina}.\")\n",
        "        return None\n",
        "\n",
        "    for item in lista_items:\n",
        "        try:\n",
        "            marca_tag = item.find(\"strong\", class_=\"product brand product-item-brand\")\n",
        "            marca = marca_tag.get_text(strip=True) if marca_tag else None\n",
        "\n",
        "            # Filtrar por marcas específicas\n",
        "            if not marca or marca.upper() not in marcas_deseadas:\n",
        "                continue\n",
        "\n",
        "            nombre_tag = item.find(\"strong\", class_=\"product name product-item-name\")\n",
        "            nombre = nombre_tag.get_text(strip=True) if nombre_tag else None\n",
        "\n",
        "            sku_tag = item.find(\"strong\", class_=\"product sku product-item-sku\")\n",
        "            sku = sku_tag.get_text(strip=True).replace(\"Código \", \"\") if sku_tag else None\n",
        "\n",
        "            precio_online_tag = item.select_one(\"span.price-container.price-final_price span.price\")\n",
        "            precio_online = limpiar_precio(precio_online_tag.get_text()) if precio_online_tag else None\n",
        "\n",
        "            precio_regular_tag = item.select_one(\"span.old-price span.price\")\n",
        "            precio_regular = limpiar_precio(precio_regular_tag.get_text()) if precio_regular_tag else None\n",
        "\n",
        "            if precio_regular is None:\n",
        "                precio_regular = precio_online\n",
        "\n",
        "            productos.append({\n",
        "                \"marca\": marca,\n",
        "                \"nombre\": nombre,\n",
        "                \"sku\": sku,\n",
        "                \"precio_online\": precio_online,\n",
        "                \"precio_regular\": precio_regular\n",
        "            })\n",
        "        except Exception as e:\n",
        "            print(f\"⚠️ Error procesando un producto en página {pagina}: {e}\")\n",
        "\n",
        "    print(f\"✅ {len(productos)} consolas válidas en página {pagina}\")\n",
        "    return productos\n",
        "\n",
        "# 🌀 Extraer todas las páginas de consolas\n",
        "todo = []\n",
        "pagina = 1\n",
        "\n",
        "while True:\n",
        "    print(f\"\\n🎮 Extrayendo página {pagina} de consolas...\")\n",
        "    datos = extraer_consolas_hiraoka(pagina)\n",
        "    if datos is None:\n",
        "        print(\"\\n✅ Búsqueda finalizada.\")\n",
        "        break\n",
        "    todo.extend(datos)\n",
        "    pagina += 1\n",
        "    time.sleep(1.5)\n",
        "\n",
        "# 📤 Exportar a CSV si hay productos\n",
        "if len(todo) == 0:\n",
        "    print(\"⚠️ No se extrajo ninguna consola válida. No se generó el archivo CSV.\")\n",
        "else:\n",
        "    nombre_archivo = \"consolas_hiraoka.csv\"\n",
        "    try:\n",
        "        with open(nombre_archivo, mode=\"w\", newline=\"\", encoding=\"utf-8\") as file:\n",
        "            writer = csv.DictWriter(file, fieldnames=[\"marca\", \"nombre\", \"sku\", \"precio_online\", \"precio_regular\"])\n",
        "            writer.writeheader()\n",
        "            writer.writerows(todo)\n",
        "        print(f\"\\n🔢 Total de consolas extraídas: {len(todo)}\")\n",
        "        print(f\"📁 Archivo CSV generado exitosamente: '{nombre_archivo}'\")\n",
        "    except Exception as e:\n",
        "        print(f\"❌ Error al guardar el archivo CSV: {e}\")"
      ],
      "metadata": {
        "colab": {
          "base_uri": "https://localhost:8080/"
        },
        "id": "HatxPOYe9SON",
        "outputId": "a2e53fe3-e50e-422e-811a-48a3c00164b0"
      },
      "execution_count": null,
      "outputs": [
        {
          "output_type": "stream",
          "name": "stdout",
          "text": [
            "\n",
            "🎮 Extrayendo página 1 de consolas...\n",
            "✅ 10 consolas válidas en página 1\n",
            "\n",
            "🎮 Extrayendo página 2 de consolas...\n",
            "⚠️ No se encontraron productos en la página 2.\n",
            "\n",
            "✅ Búsqueda finalizada.\n",
            "\n",
            "🔢 Total de consolas extraídas: 10\n",
            "📁 Archivo CSV generado exitosamente: 'consolas_hiraoka.csv'\n"
          ]
        }
      ]
    }
  ]
}